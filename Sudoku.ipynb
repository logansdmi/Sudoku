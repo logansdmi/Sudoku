{
  "nbformat": 4,
  "nbformat_minor": 0,
  "metadata": {
    "colab": {
      "name": "Sudoku.ipynb",
      "provenance": [],
      "authorship_tag": "ABX9TyNcpZNm6XNdmNjW1nbeb13W",
      "include_colab_link": true
    },
    "kernelspec": {
      "name": "python3",
      "display_name": "Python 3"
    }
  },
  "cells": [
    {
      "cell_type": "markdown",
      "metadata": {
        "id": "view-in-github",
        "colab_type": "text"
      },
      "source": [
        "<a href=\"https://colab.research.google.com/github/logansdmi/Sudoku/blob/main/Sudoku.ipynb\" target=\"_parent\"><img src=\"https://colab.research.google.com/assets/colab-badge.svg\" alt=\"Open In Colab\"/></a>"
      ]
    },
    {
      "cell_type": "markdown",
      "metadata": {
        "id": "4X0UK5TUbeIE"
      },
      "source": [
        "## Sudoku solver ##"
      ]
    },
    {
      "cell_type": "markdown",
      "metadata": {
        "id": "eLy9ScMXIwHG"
      },
      "source": [
        "This uses a recursive backtracking algorithm to try new values in a sudoku problem."
      ]
    },
    {
      "cell_type": "code",
      "metadata": {
        "id": "c8iAV2PWbc8u"
      },
      "source": [
        "import numpy as np\n",
        "\n",
        "\n",
        "def rules(y,x,attempt,problem):\n",
        "  #global problem\n",
        "  '''inputs: y,x - positions in the matrix, attempt - the number attemping to be fitted into problem,\n",
        "  problem - matrix of numbers representign a sudoku problem\n",
        "  outputs - true or false depending if the attempt fits the position'''\n",
        "  # testing if attempt can fit in a row\n",
        "  for i in range(9):\n",
        "    if problem[i][x] == attempt:\n",
        "      return False\n",
        "  # testing of attempt can fit in a column\n",
        "  for i in range(9):\n",
        "    if problem[y][i] == attempt:\n",
        "      return False\n",
        "  # testing if the attempt can fit into the 3x3 boxes\n",
        "  xBox = 3 * (x//3)\n",
        "  yBox = 3 * (y//3)\n",
        "  for i in range(3):\n",
        "    for j in range(3):\n",
        "      if problem[yBox + i][xBox + j] == attempt:\n",
        "        return False\n",
        "  return True \n",
        "\n",
        "def solver(problem):\n",
        "  '''input: problem - matrix representing the sudoku problem\n",
        "  output - the solved problem in matrix form'''\n",
        "  # loops through all x and y values\n",
        "  for y in range(9):\n",
        "    for x in range(9):\n",
        "      # checks if the position is empty\n",
        "      if problem[y][x] == 0:\n",
        "        for attempt in range(1,10): # loops through each attempt posible\n",
        "          if rules(y,x,attempt,problem): # checks if attempt is possible\n",
        "            problem[y][x] = attempt # puts the attempt into the problem\n",
        "            # the problem is solved again with the new value in but if it does not lead to a solution the attempt is removed and a new one is tried\n",
        "            solver(problem) \n",
        "            problem[y][x] = 0\n",
        "        return \n",
        "  # prints solved problem and allows user to try another solution\n",
        "  print(np.matrix(problem))\n",
        "  input('Another solution?[press enter]')\n",
        "    \n"
      ],
      "execution_count": 1,
      "outputs": []
    },
    {
      "cell_type": "code",
      "metadata": {
        "id": "uzPOqXpPgRK8",
        "outputId": "5f4231ad-2d53-41ba-b351-1c389b25e12e",
        "colab": {
          "base_uri": "https://localhost:8080/"
        }
      },
      "source": [
        "problem = [\n",
        "    [7,8,0,0,0,0,1,2,0],\n",
        "    [6,0,0,0,7,5,0,0,9],\n",
        "    [0,0,0,6,0,1,0,7,8],\n",
        "    [0,0,0,0,0,0,2,6,0],\n",
        "    [0,0,1,0,5,0,9,3,0],\n",
        "    [9,0,0,0,0,0,0,0,5],\n",
        "    [0,7,0,3,0,0,0,1,2],\n",
        "    [1,2,0,0,0,7,4,0,0],\n",
        "    [0,4,9,2,0,6,0,0,0]\n",
        "]\n",
        "print(np.matrix(problem))"
      ],
      "execution_count": 2,
      "outputs": [
        {
          "output_type": "stream",
          "text": [
            "[[7 8 0 0 0 0 1 2 0]\n",
            " [6 0 0 0 7 5 0 0 9]\n",
            " [0 0 0 6 0 1 0 7 8]\n",
            " [0 0 0 0 0 0 2 6 0]\n",
            " [0 0 1 0 5 0 9 3 0]\n",
            " [9 0 0 0 0 0 0 0 5]\n",
            " [0 7 0 3 0 0 0 1 2]\n",
            " [1 2 0 0 0 7 4 0 0]\n",
            " [0 4 9 2 0 6 0 0 0]]\n"
          ],
          "name": "stdout"
        }
      ]
    },
    {
      "cell_type": "code",
      "metadata": {
        "id": "WB15fdMGgZ0A",
        "outputId": "617904c6-7d8b-4461-89ef-4c362fbaa5c8",
        "colab": {
          "base_uri": "https://localhost:8080/"
        }
      },
      "source": [
        "solver(problem)"
      ],
      "execution_count": 3,
      "outputs": [
        {
          "output_type": "stream",
          "text": [
            "[[7 8 5 4 3 9 1 2 6]\n",
            " [6 1 2 8 7 5 3 4 9]\n",
            " [4 9 3 6 2 1 5 7 8]\n",
            " [8 5 7 9 4 3 2 6 1]\n",
            " [2 6 1 7 5 8 9 3 4]\n",
            " [9 3 4 1 6 2 7 8 5]\n",
            " [5 7 8 3 9 4 6 1 2]\n",
            " [1 2 6 5 8 7 4 9 3]\n",
            " [3 4 9 2 1 6 8 5 7]]\n",
            "Another solution?[press enter]\n",
            "[[7 8 5 4 9 3 1 2 6]\n",
            " [6 1 2 8 7 5 3 4 9]\n",
            " [4 9 3 6 2 1 5 7 8]\n",
            " [8 5 7 9 3 4 2 6 1]\n",
            " [2 6 1 7 5 8 9 3 4]\n",
            " [9 3 4 1 6 2 7 8 5]\n",
            " [5 7 8 3 4 9 6 1 2]\n",
            " [1 2 6 5 8 7 4 9 3]\n",
            " [3 4 9 2 1 6 8 5 7]]\n",
            "Another solution?[press enter]\n",
            "[[7 8 5 9 3 4 1 2 6]\n",
            " [6 1 2 8 7 5 3 4 9]\n",
            " [4 9 3 6 2 1 5 7 8]\n",
            " [8 5 7 4 9 3 2 6 1]\n",
            " [2 6 1 7 5 8 9 3 4]\n",
            " [9 3 4 1 6 2 7 8 5]\n",
            " [5 7 8 3 4 9 6 1 2]\n",
            " [1 2 6 5 8 7 4 9 3]\n",
            " [3 4 9 2 1 6 8 5 7]]\n",
            "Another solution?[press enter]\n",
            "[[7 8 5 9 4 3 1 2 6]\n",
            " [6 1 2 8 7 5 3 4 9]\n",
            " [4 9 3 6 2 1 5 7 8]\n",
            " [8 5 7 4 3 9 2 6 1]\n",
            " [2 6 1 7 5 8 9 3 4]\n",
            " [9 3 4 1 6 2 7 8 5]\n",
            " [5 7 8 3 9 4 6 1 2]\n",
            " [1 2 6 5 8 7 4 9 3]\n",
            " [3 4 9 2 1 6 8 5 7]]\n",
            "Another solution?[press enter]\n"
          ],
          "name": "stdout"
        }
      ]
    },
    {
      "cell_type": "code",
      "metadata": {
        "id": "hsdQG-hphETE"
      },
      "source": [
        ""
      ],
      "execution_count": null,
      "outputs": []
    }
  ]
}